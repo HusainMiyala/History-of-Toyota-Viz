{
 "cells": [
  {
   "cell_type": "code",
   "execution_count": 47,
   "id": "7f253682",
   "metadata": {},
   "outputs": [
    {
     "name": "stdout",
     "output_type": "stream",
     "text": [
      "<Response [200]>\n"
     ]
    }
   ],
   "source": [
    "#Import libraries and check for response from url\n",
    "import requests\n",
    "import pandas as pd\n",
    "from bs4 import BeautifulSoup\n",
    "\n",
    "url = \"https://www.toyota-global.com/company/history_of_toyota/75years/data/automotive_business/sales/sales_volume/overseas/region.html\"\n",
    "r = requests.get(url)\n",
    "print(r)"
   ]
  },
  {
   "cell_type": "code",
   "execution_count": 48,
   "id": "b314c755",
   "metadata": {},
   "outputs": [],
   "source": [
    "#setup variables\n",
    "soup = BeautifulSoup(r.text,\"lxml\")\n",
    "table = soup.find(\"table\",class_=\"table_basic\")\n",
    "\n",
    "headers = table.find_all(\"th\")\n",
    "rows = table.find_all(\"tr\")"
   ]
  },
  {
   "cell_type": "code",
   "execution_count": 49,
   "id": "66c55142",
   "metadata": {},
   "outputs": [
    {
     "data": {
      "text/html": [
       "<div>\n",
       "<style scoped>\n",
       "    .dataframe tbody tr th:only-of-type {\n",
       "        vertical-align: middle;\n",
       "    }\n",
       "\n",
       "    .dataframe tbody tr th {\n",
       "        vertical-align: top;\n",
       "    }\n",
       "\n",
       "    .dataframe thead th {\n",
       "        text-align: right;\n",
       "    }\n",
       "</style>\n",
       "<table border=\"1\" class=\"dataframe\">\n",
       "  <thead>\n",
       "    <tr style=\"text-align: right;\">\n",
       "      <th></th>\n",
       "      <th>\\nYear\\n</th>\n",
       "      <th>\\nNorth America\\n</th>\n",
       "      <th>\\nLatin America\\n</th>\n",
       "      <th>\\nEurope\\n</th>\n",
       "      <th>\\nAfrica\\n</th>\n",
       "      <th>\\nAsia\\n</th>\n",
       "      <th>\\nChina\\n</th>\n",
       "      <th>\\nMiddle East\\n</th>\n",
       "      <th>\\nOceania\\n</th>\n",
       "      <th>\\nTotal\\n</th>\n",
       "    </tr>\n",
       "  </thead>\n",
       "  <tbody>\n",
       "  </tbody>\n",
       "</table>\n",
       "</div>"
      ],
      "text/plain": [
       "Empty DataFrame\n",
       "Columns: [\n",
       "Year\n",
       ", \n",
       "North America\n",
       ", \n",
       "Latin America\n",
       ", \n",
       "Europe\n",
       ", \n",
       "Africa\n",
       ", \n",
       "Asia\n",
       ", \n",
       "China\n",
       ", \n",
       "Middle East\n",
       ", \n",
       "Oceania\n",
       ", \n",
       "Total\n",
       "]\n",
       "Index: []"
      ]
     },
     "execution_count": 49,
     "metadata": {},
     "output_type": "execute_result"
    }
   ],
   "source": [
    "#Create empty dataframe with required columns\n",
    "titles = []\n",
    "for i in headers:\n",
    "    title = i.text\n",
    "    titles.append(title)\n",
    "\n",
    "df = pd.DataFrame(columns=titles)\n",
    "df"
   ]
  },
  {
   "cell_type": "code",
   "execution_count": 51,
   "id": "e3990556",
   "metadata": {},
   "outputs": [
    {
     "name": "stdout",
     "output_type": "stream",
     "text": [
      "    \\nYear\\n \\nNorth America\\n \\nLatin America\\n  \\nEurope\\n \\nAfrica\\n  \\\n",
      "0   \\n1996\\n        \\n1233.3\\n         \\n100.4\\n   \\n438.8\\n  \\n135.5\\n   \n",
      "1   \\n1997\\n        \\n1336.4\\n         \\n135.4\\n   \\n501.8\\n  \\n143.6\\n   \n",
      "2   \\n1998\\n        \\n1489.4\\n         \\n151.6\\n   \\n560.5\\n  \\n129.7\\n   \n",
      "3   \\n1999\\n        \\n1605.3\\n         \\n125.9\\n   \\n606.8\\n  \\n123.2\\n   \n",
      "4   \\n2000\\n        \\n1742.8\\n         \\n129.1\\n   \\n671.9\\n  \\n121.8\\n   \n",
      "5   \\n2001\\n        \\n1869.0\\n         \\n132.0\\n   \\n672.3\\n  \\n126.5\\n   \n",
      "6   \\n2002\\n        \\n1908.9\\n         \\n128.8\\n   \\n764.8\\n  \\n139.8\\n   \n",
      "7   \\n2003\\n        \\n2031.3\\n         \\n162.1\\n   \\n851.5\\n  \\n160.6\\n   \n",
      "8   \\n2004\\n        \\n2230.3\\n         \\n214.9\\n   \\n946.9\\n  \\n206.7\\n   \n",
      "9   \\n2005\\n        \\n2436.1\\n         \\n270.5\\n   \\n995.2\\n  \\n227.2\\n   \n",
      "10  \\n2006\\n        \\n2738.3\\n         \\n339.4\\n  \\n1124.1\\n  \\n265.7\\n   \n",
      "11  \\n2007\\n        \\n2822.2\\n         \\n379.4\\n  \\n1238.6\\n  \\n313.5\\n   \n",
      "12  \\n2008\\n        \\n2441.8\\n         \\n370.2\\n  \\n1119.5\\n  \\n288.1\\n   \n",
      "13  \\n2009\\n        \\n1975.4\\n         \\n293.6\\n   \\n886.0\\n  \\n201.4\\n   \n",
      "14  \\n2010\\n        \\n1935.5\\n         \\n342.1\\n   \\n785.8\\n  \\n198.0\\n   \n",
      "15  \\n2011\\n        \\n1806.9\\n         \\n333.5\\n   \\n801.9\\n  \\n211.9\\n   \n",
      "16  \\n1996\\n        \\n1233.3\\n         \\n100.4\\n   \\n438.8\\n  \\n135.5\\n   \n",
      "17  \\n1997\\n        \\n1336.4\\n         \\n135.4\\n   \\n501.8\\n  \\n143.6\\n   \n",
      "18  \\n1998\\n        \\n1489.4\\n         \\n151.6\\n   \\n560.5\\n  \\n129.7\\n   \n",
      "19  \\n1999\\n        \\n1605.3\\n         \\n125.9\\n   \\n606.8\\n  \\n123.2\\n   \n",
      "20  \\n2000\\n        \\n1742.8\\n         \\n129.1\\n   \\n671.9\\n  \\n121.8\\n   \n",
      "21  \\n2001\\n        \\n1869.0\\n         \\n132.0\\n   \\n672.3\\n  \\n126.5\\n   \n",
      "22  \\n2002\\n        \\n1908.9\\n         \\n128.8\\n   \\n764.8\\n  \\n139.8\\n   \n",
      "23  \\n2003\\n        \\n2031.3\\n         \\n162.1\\n   \\n851.5\\n  \\n160.6\\n   \n",
      "24  \\n2004\\n        \\n2230.3\\n         \\n214.9\\n   \\n946.9\\n  \\n206.7\\n   \n",
      "25  \\n2005\\n        \\n2436.1\\n         \\n270.5\\n   \\n995.2\\n  \\n227.2\\n   \n",
      "26  \\n2006\\n        \\n2738.3\\n         \\n339.4\\n  \\n1124.1\\n  \\n265.7\\n   \n",
      "27  \\n2007\\n        \\n2822.2\\n         \\n379.4\\n  \\n1238.6\\n  \\n313.5\\n   \n",
      "28  \\n2008\\n        \\n2441.8\\n         \\n370.2\\n  \\n1119.5\\n  \\n288.1\\n   \n",
      "29  \\n2009\\n        \\n1975.4\\n         \\n293.6\\n   \\n886.0\\n  \\n201.4\\n   \n",
      "30  \\n2010\\n        \\n1935.5\\n         \\n342.1\\n   \\n785.8\\n  \\n198.0\\n   \n",
      "31  \\n2011\\n        \\n1806.9\\n         \\n333.5\\n   \\n801.9\\n  \\n211.9\\n   \n",
      "\n",
      "      \\nAsia\\n  \\nChina\\n \\nMiddle East\\n \\nOceania\\n   \\nTotal\\n  \n",
      "0    \\n431.5\\n   \\n23.8\\n       \\n114.4\\n   \\n144.2\\n  \\n2621.8\\n  \n",
      "1    \\n379.4\\n   \\n46.3\\n       \\n146.7\\n   \\n148.2\\n  \\n2837.6\\n  \n",
      "2    \\n201.2\\n   \\n38.9\\n       \\n182.3\\n   \\n176.5\\n  \\n2930.0\\n  \n",
      "3    \\n249.3\\n   \\n14.3\\n       \\n161.4\\n   \\n171.8\\n  \\n3058.1\\n  \n",
      "4    \\n348.2\\n   \\n23.5\\n       \\n168.7\\n   \\n176.7\\n  \\n3382.6\\n  \n",
      "5    \\n348.3\\n   \\n32.0\\n       \\n204.3\\n   \\n162.2\\n  \\n3546.7\\n  \n",
      "6    \\n431.1\\n   \\n62.3\\n       \\n220.3\\n   \\n182.2\\n  \\n3838.3\\n  \n",
      "7    \\n575.1\\n  \\n107.3\\n       \\n251.4\\n   \\n215.1\\n  \\n4354.5\\n  \n",
      "8    \\n718.9\\n  \\n127.4\\n       \\n270.9\\n   \\n232.8\\n  \\n4948.8\\n  \n",
      "9    \\n868.6\\n  \\n194.3\\n       \\n325.3\\n   \\n236.9\\n  \\n5554.1\\n  \n",
      "10   \\n788.1\\n  \\n318.6\\n       \\n404.8\\n   \\n250.3\\n  \\n6229.3\\n  \n",
      "11   \\n818.2\\n  \\n511.4\\n       \\n482.7\\n   \\n275.9\\n  \\n6841.9\\n  \n",
      "12   \\n840.4\\n  \\n598.2\\n       \\n590.1\\n   \\n277.7\\n  \\n6526.1\\n  \n",
      "13   \\n817.8\\n  \\n716.1\\n       \\n482.5\\n   \\n231.2\\n  \\n5604.0\\n  \n",
      "14  \\n1038.8\\n  \\n857.0\\n       \\n554.6\\n   \\n249.7\\n  \\n5961.6\\n  \n",
      "15  \\n1103.0\\n  \\n895.2\\n       \\n527.5\\n   \\n215.9\\n  \\n5895.9\\n  \n",
      "16   \\n431.5\\n   \\n23.8\\n       \\n114.4\\n   \\n144.2\\n  \\n2621.8\\n  \n",
      "17   \\n379.4\\n   \\n46.3\\n       \\n146.7\\n   \\n148.2\\n  \\n2837.6\\n  \n",
      "18   \\n201.2\\n   \\n38.9\\n       \\n182.3\\n   \\n176.5\\n  \\n2930.0\\n  \n",
      "19   \\n249.3\\n   \\n14.3\\n       \\n161.4\\n   \\n171.8\\n  \\n3058.1\\n  \n",
      "20   \\n348.2\\n   \\n23.5\\n       \\n168.7\\n   \\n176.7\\n  \\n3382.6\\n  \n",
      "21   \\n348.3\\n   \\n32.0\\n       \\n204.3\\n   \\n162.2\\n  \\n3546.7\\n  \n",
      "22   \\n431.1\\n   \\n62.3\\n       \\n220.3\\n   \\n182.2\\n  \\n3838.3\\n  \n",
      "23   \\n575.1\\n  \\n107.3\\n       \\n251.4\\n   \\n215.1\\n  \\n4354.5\\n  \n",
      "24   \\n718.9\\n  \\n127.4\\n       \\n270.9\\n   \\n232.8\\n  \\n4948.8\\n  \n",
      "25   \\n868.6\\n  \\n194.3\\n       \\n325.3\\n   \\n236.9\\n  \\n5554.1\\n  \n",
      "26   \\n788.1\\n  \\n318.6\\n       \\n404.8\\n   \\n250.3\\n  \\n6229.3\\n  \n",
      "27   \\n818.2\\n  \\n511.4\\n       \\n482.7\\n   \\n275.9\\n  \\n6841.9\\n  \n",
      "28   \\n840.4\\n  \\n598.2\\n       \\n590.1\\n   \\n277.7\\n  \\n6526.1\\n  \n",
      "29   \\n817.8\\n  \\n716.1\\n       \\n482.5\\n   \\n231.2\\n  \\n5604.0\\n  \n",
      "30  \\n1038.8\\n  \\n857.0\\n       \\n554.6\\n   \\n249.7\\n  \\n5961.6\\n  \n",
      "31  \\n1103.0\\n  \\n895.2\\n       \\n527.5\\n   \\n215.9\\n  \\n5895.9\\n  \n"
     ]
    }
   ],
   "source": [
    "#Extract row-wise data from the web\n",
    "for i in rows[1:]:\n",
    "    data = i.find_all(\"td\")\n",
    "    row = [tr.text for tr in data]\n",
    "    #print(row)\n",
    "    l = len(df)\n",
    "    df.loc[l] = row\n",
    "\n",
    "print(df)\n",
    "\n",
    "#Export file\n",
    "df.to_csv(\"2.csv\")"
   ]
  },
  {
   "cell_type": "code",
   "execution_count": null,
   "id": "9943eba7",
   "metadata": {},
   "outputs": [],
   "source": []
  }
 ],
 "metadata": {
  "kernelspec": {
   "display_name": "Python 3 (ipykernel)",
   "language": "python",
   "name": "python3"
  },
  "language_info": {
   "codemirror_mode": {
    "name": "ipython",
    "version": 3
   },
   "file_extension": ".py",
   "mimetype": "text/x-python",
   "name": "python",
   "nbconvert_exporter": "python",
   "pygments_lexer": "ipython3",
   "version": "3.11.5"
  }
 },
 "nbformat": 4,
 "nbformat_minor": 5
}
